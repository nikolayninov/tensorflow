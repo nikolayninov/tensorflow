{
  "nbformat": 4,
  "nbformat_minor": 0,
  "metadata": {
    "colab": {
      "name": "Introduction to Tensorflow.ipynb",
      "version": "0.3.2",
      "provenance": [],
      "collapsed_sections": [],
      "include_colab_link": true
    },
    "kernelspec": {
      "name": "python3",
      "display_name": "Python 3"
    }
  },
  "cells": [
    {
      "cell_type": "markdown",
      "metadata": {
        "id": "view-in-github",
        "colab_type": "text"
      },
      "source": [
        "<a href=\"https://colab.research.google.com/github/nikolayninov/tensorflow/blob/master/IBM/Introduction_to_Tensorflow.ipynb\" target=\"_parent\"><img src=\"https://colab.research.google.com/assets/colab-badge.svg\" alt=\"Open In Colab\"/></a>"
      ]
    },
    {
      "cell_type": "code",
      "metadata": {
        "id": "AFzVsXKaYpzj",
        "colab_type": "code",
        "colab": {}
      },
      "source": [
        "import tensorflow as tf"
      ],
      "execution_count": 0,
      "outputs": []
    },
    {
      "cell_type": "code",
      "metadata": {
        "id": "2eg9PRMMYvHe",
        "colab_type": "code",
        "colab": {}
      },
      "source": [
        "graph1 = tf.Graph()"
      ],
      "execution_count": 0,
      "outputs": []
    },
    {
      "cell_type": "code",
      "metadata": {
        "id": "c_wdtjRrYxa_",
        "colab_type": "code",
        "colab": {}
      },
      "source": [
        "with graph1.as_default():\n",
        "  a = tf.constant([2], name=\"constant_a\")\n",
        "  b = tf.constant([3], name=\"constant_b\") \n",
        " "
      ],
      "execution_count": 0,
      "outputs": []
    },
    {
      "cell_type": "code",
      "metadata": {
        "id": "6Us_qyxuZJtL",
        "colab_type": "code",
        "colab": {
          "base_uri": "https://localhost:8080/",
          "height": 35
        },
        "outputId": "98cba8f0-8c11-4f99-9314-ff4cc712d487"
      },
      "source": [
        "a\n"
      ],
      "execution_count": 5,
      "outputs": [
        {
          "output_type": "execute_result",
          "data": {
            "text/plain": [
              "<tf.Tensor 'constant_a:0' shape=(1,) dtype=int32>"
            ]
          },
          "metadata": {
            "tags": []
          },
          "execution_count": 5
        }
      ]
    },
    {
      "cell_type": "code",
      "metadata": {
        "id": "MQy93LXkZPRL",
        "colab_type": "code",
        "colab": {
          "base_uri": "https://localhost:8080/",
          "height": 35
        },
        "outputId": "61e24555-4f5c-400c-945f-a71d7a0f538e"
      },
      "source": [
        "sess = tf.Session(graph = graph1)\n",
        "result = sess.run(a)\n",
        "print(result)\n",
        "sess.close()"
      ],
      "execution_count": 8,
      "outputs": [
        {
          "output_type": "stream",
          "text": [
            "[2]\n"
          ],
          "name": "stdout"
        }
      ]
    },
    {
      "cell_type": "code",
      "metadata": {
        "id": "8su_EYaVZPbG",
        "colab_type": "code",
        "colab": {}
      },
      "source": [
        "with graph1.as_default():\n",
        "  c = tf.add(a,b)"
      ],
      "execution_count": 0,
      "outputs": []
    },
    {
      "cell_type": "code",
      "metadata": {
        "id": "HT4SIiUYZrJL",
        "colab_type": "code",
        "colab": {
          "base_uri": "https://localhost:8080/",
          "height": 35
        },
        "outputId": "b064359e-8332-4807-8080-ff94c8e4703c"
      },
      "source": [
        "sess = tf.Session(graph = graph1)\n",
        "result = sess.run(c)\n",
        "print(result)\n",
        "sess.close()"
      ],
      "execution_count": 11,
      "outputs": [
        {
          "output_type": "stream",
          "text": [
            "[5]\n"
          ],
          "name": "stdout"
        }
      ]
    },
    {
      "cell_type": "code",
      "metadata": {
        "id": "cEAqj0k9ZzRO",
        "colab_type": "code",
        "colab": {
          "base_uri": "https://localhost:8080/",
          "height": 454
        },
        "outputId": "5e5669e6-e58e-461b-fe92-60883d5c937e"
      },
      "source": [
        "# Multidimensional arrays using TensorFlow\n",
        "\n",
        "graph2 = tf.Graph()\n",
        "\n",
        "with graph2.as_default():\n",
        "  Scalar = tf.constant(2)\n",
        "  Vector = tf.constant([5,6,2])\n",
        "  Matrix = tf.constant([[1,2,3],[2,3,4],[3,4,5]])\n",
        "  Tensor = tf.constant([ [[1,2,3],[2,3,4],[3,4,5]] , [[4,5,6],[5,6,7],[6,7,8]] , [[7,8,9],[8,9,10],[9,10,11]] ])\n",
        "with tf.Session(graph = graph2) as sess:\n",
        "  result = sess.run(Scalar)\n",
        "  print (\"Scalar (1 entry):\\n %s \\n\" % result)\n",
        "  result = sess.run(Vector)\n",
        "  print (\"Vector (3 entries) :\\n %s \\n\" % result)\n",
        "  result = sess.run(Matrix)\n",
        "  print (\"Matrix (3x3 entries):\\n %s \\n\" % result)\n",
        "  result = sess.run(Tensor)\n",
        "  print (\"Tensor (3x3x3 entries) :\\n %s \\n\" % result)"
      ],
      "execution_count": 12,
      "outputs": [
        {
          "output_type": "stream",
          "text": [
            "Scalar (1 entry):\n",
            " 2 \n",
            "\n",
            "Vector (3 entries) :\n",
            " [5 6 2] \n",
            "\n",
            "Matrix (3x3 entries):\n",
            " [[1 2 3]\n",
            " [2 3 4]\n",
            " [3 4 5]] \n",
            "\n",
            "Tensor (3x3x3 entries) :\n",
            " [[[ 1  2  3]\n",
            "  [ 2  3  4]\n",
            "  [ 3  4  5]]\n",
            "\n",
            " [[ 4  5  6]\n",
            "  [ 5  6  7]\n",
            "  [ 6  7  8]]\n",
            "\n",
            " [[ 7  8  9]\n",
            "  [ 8  9 10]\n",
            "  [ 9 10 11]]] \n",
            "\n"
          ],
          "name": "stdout"
        }
      ]
    },
    {
      "cell_type": "code",
      "metadata": {
        "id": "ldCacwPYawjy",
        "colab_type": "code",
        "colab": {
          "base_uri": "https://localhost:8080/",
          "height": 35
        },
        "outputId": "88f0aa80-7c8c-4aee-f378-d98638b13857"
      },
      "source": [
        "with graph2.as_default():\n",
        "  print(Scalar.shape)\n",
        "\n"
      ],
      "execution_count": 20,
      "outputs": [
        {
          "output_type": "stream",
          "text": [
            "()\n"
          ],
          "name": "stdout"
        }
      ]
    },
    {
      "cell_type": "code",
      "metadata": {
        "id": "0ZRiwEyXbM9A",
        "colab_type": "code",
        "colab": {
          "base_uri": "https://localhost:8080/",
          "height": 163
        },
        "outputId": "95c922ab-06ea-4412-d7e5-088066ccd84c"
      },
      "source": [
        "graph3 = tf.Graph()\n",
        "\n",
        "with graph3.as_default():\n",
        "  Matrix_one = tf.constant([[1,2,3],[2,3,4],[3,4,5]])\n",
        "  Matrix_two = tf.constant([[2,2,2],[2,2,2],[2,2,2]])\n",
        "  \n",
        "  add_1_operation = tf.add(Matrix_one,Matrix_two)\n",
        "  add_2_operation = Matrix_one + Matrix_two\n",
        "  \n",
        "with tf.Session(graph = graph3) as sess:\n",
        "  result = sess.run(add_1_operation)\n",
        "  print (\"Defined using tensorflow function :\")\n",
        "  print(result)\n",
        "  result = sess.run(add_2_operation)\n",
        "  print (\"Defined using normal expressions :\")\n",
        "  print(result)"
      ],
      "execution_count": 21,
      "outputs": [
        {
          "output_type": "stream",
          "text": [
            "Defined using tensorflow function :\n",
            "[[3 4 5]\n",
            " [4 5 6]\n",
            " [5 6 7]]\n",
            "Defined using normal expressions :\n",
            "[[3 4 5]\n",
            " [4 5 6]\n",
            " [5 6 7]]\n"
          ],
          "name": "stdout"
        }
      ]
    },
    {
      "cell_type": "code",
      "metadata": {
        "id": "Cc8zislXbv0G",
        "colab_type": "code",
        "colab": {
          "base_uri": "https://localhost:8080/",
          "height": 72
        },
        "outputId": "528ac1a0-2574-4093-f6eb-c3a94ce1df2c"
      },
      "source": [
        "graph4 = tf.Graph()\n",
        "with graph4.as_default():\n",
        "    Matrix_one = tf.constant([[2,3],[3,4]])\n",
        "    Matrix_two = tf.constant([[2,3],[3,4]])\n",
        "\n",
        "    mul_operation = tf.matmul(Matrix_one, Matrix_two)\n",
        "\n",
        "with tf.Session(graph = graph4) as sess:\n",
        "    result = sess.run(mul_operation)\n",
        "    print (\"Defined using tensorflow function :\")\n",
        "    print(result)"
      ],
      "execution_count": 22,
      "outputs": [
        {
          "output_type": "stream",
          "text": [
            "Defined using tensorflow function :\n",
            "[[13 18]\n",
            " [18 25]]\n"
          ],
          "name": "stdout"
        }
      ]
    },
    {
      "cell_type": "markdown",
      "metadata": {
        "id": "CMDlTIVxcWrr",
        "colab_type": "text"
      },
      "source": [
        "#Variables\n",
        "\n",
        "To define variables we use the command **tf.Variable()**. To be able to use variables in a computation graph it is necessary to initialize them before running the graph in a session. This is done by running **tf.global_variables_initializer()**.\n"
      ]
    },
    {
      "cell_type": "code",
      "metadata": {
        "id": "j-vHlDk1dZVm",
        "colab_type": "code",
        "colab": {}
      },
      "source": [
        "v = tf.Variable(0)"
      ],
      "execution_count": 0,
      "outputs": []
    },
    {
      "cell_type": "code",
      "metadata": {
        "id": "1-L_rOubddyq",
        "colab_type": "code",
        "colab": {}
      },
      "source": [
        "update = tf.assign(v, v+1)"
      ],
      "execution_count": 0,
      "outputs": []
    },
    {
      "cell_type": "code",
      "metadata": {
        "id": "v5s_UV-Mdlgl",
        "colab_type": "code",
        "colab": {}
      },
      "source": [
        "init_op = tf.global_variables_initializer()"
      ],
      "execution_count": 0,
      "outputs": []
    },
    {
      "cell_type": "code",
      "metadata": {
        "id": "MkOz8uKoduRT",
        "colab_type": "code",
        "colab": {
          "base_uri": "https://localhost:8080/",
          "height": 90
        },
        "outputId": "580648c9-40ce-4bd6-fa4c-193eff4bbb4a"
      },
      "source": [
        "with tf.Session() as sess:\n",
        "  sess.run(init_op)\n",
        "  print(sess.run(v))\n",
        "  for _ in range(3):\n",
        "    sess.run(update)\n",
        "    print(sess.run(v))"
      ],
      "execution_count": 29,
      "outputs": [
        {
          "output_type": "stream",
          "text": [
            "0\n",
            "1\n",
            "2\n",
            "3\n"
          ],
          "name": "stdout"
        }
      ]
    },
    {
      "cell_type": "markdown",
      "metadata": {
        "id": "RHr0dpTceJlV",
        "colab_type": "text"
      },
      "source": [
        "#Placeholders\n",
        "\n",
        "If you want to feed data to a TensorFlow graph from outside a graph, you will need to use placeholders.\n",
        "\n",
        "So <b>what are these placeholders and what do they do?</b> \n",
        "\n",
        "Placeholders can be seen as \"holes\" in your model, \"holes\" which you will pass the data to, you can create them using <br> <b>tf.placeholder(_datatype_)</b>, where <b>_datatype_</b> specifies the type of data (integers, floating points, strings, booleans) along with its precision (8, 16, 32, 64) bits.\n",
        "\n",
        "The definition of each data type with the respective python syntax is defined as:"
      ]
    },
    {
      "cell_type": "markdown",
      "metadata": {
        "id": "yMZ_fZYieY6L",
        "colab_type": "text"
      },
      "source": [
        "|Data type\t|Python type|Description|\n",
        "| --------- | --------- | --------- |\n",
        "|DT_FLOAT\t|tf.float32\t|32 bits floating point.|\n",
        "|DT_DOUBLE\t|tf.float64\t|64 bits floating point.|\n",
        "|DT_INT8\t|tf.int8\t|8 bits signed integer.|\n",
        "|DT_INT16\t|tf.int16\t|16 bits signed integer.|\n",
        "|DT_INT32\t|tf.int32\t|32 bits signed integer.|\n",
        "|DT_INT64\t|tf.int64\t|64 bits signed integer.|\n",
        "|DT_UINT8\t|tf.uint8\t|8 bits unsigned integer.|\n",
        "|DT_STRING\t|tf.string\t|Variable length byte arrays. Each element of a Tensor is a byte array.|\n",
        "|DT_BOOL\t|tf.bool\t|Boolean.|\n",
        "|DT_COMPLEX64\t|tf.complex64\t|Complex number made of two 32 bits floating points: real and imaginary parts.|\n",
        "|DT_COMPLEX128\t|tf.complex128\t|Complex number made of two 64 bits floating points: real and imaginary parts.|\n",
        "|DT_QINT8\t|tf.qint8\t|8 bits signed integer used in quantized Ops.|\n",
        "|DT_QINT32\t|tf.qint32\t|32 bits signed integer used in quantized Ops.|\n",
        "|DT_QUINT8\t|tf.quint8\t|8 bits unsigned integer used in quantized Ops.|\n"
      ]
    },
    {
      "cell_type": "code",
      "metadata": {
        "id": "RXNqistNemOR",
        "colab_type": "code",
        "colab": {}
      },
      "source": [
        "a = tf.placeholder(tf.float32)"
      ],
      "execution_count": 0,
      "outputs": []
    },
    {
      "cell_type": "code",
      "metadata": {
        "id": "_Je1NeSketIW",
        "colab_type": "code",
        "colab": {}
      },
      "source": [
        "b = a*2"
      ],
      "execution_count": 0,
      "outputs": []
    },
    {
      "cell_type": "code",
      "metadata": {
        "id": "PW1mRjQbeu6R",
        "colab_type": "code",
        "colab": {
          "base_uri": "https://localhost:8080/",
          "height": 35
        },
        "outputId": "733129c9-3235-403c-adf6-14cc3fb24b56"
      },
      "source": [
        "with tf.Session() as sess:\n",
        "  result = sess.run(b,feed_dict={a:3.5})\n",
        "  print(result)"
      ],
      "execution_count": 34,
      "outputs": [
        {
          "output_type": "stream",
          "text": [
            "7.0\n"
          ],
          "name": "stdout"
        }
      ]
    },
    {
      "cell_type": "code",
      "metadata": {
        "id": "qfJkgEYxfEGB",
        "colab_type": "code",
        "colab": {}
      },
      "source": [
        "dictionary={a: [ [ [1,2,3],[4,5,6],[7,8,9],[10,11,12] ] , [ [13,14,15],[16,17,18],[19,20,21],[22,23,24] ] ] }"
      ],
      "execution_count": 0,
      "outputs": []
    },
    {
      "cell_type": "code",
      "metadata": {
        "id": "Z4EgSwsGfFT7",
        "colab_type": "code",
        "colab": {
          "base_uri": "https://localhost:8080/",
          "height": 181
        },
        "outputId": "82c1d30b-0620-4f84-955f-2fc8f6c3e18b"
      },
      "source": [
        "with tf.Session() as sess:\n",
        "    result = sess.run(b,feed_dict=dictionary)\n",
        "    print (result)"
      ],
      "execution_count": 36,
      "outputs": [
        {
          "output_type": "stream",
          "text": [
            "[[[ 2.  4.  6.]\n",
            "  [ 8. 10. 12.]\n",
            "  [14. 16. 18.]\n",
            "  [20. 22. 24.]]\n",
            "\n",
            " [[26. 28. 30.]\n",
            "  [32. 34. 36.]\n",
            "  [38. 40. 42.]\n",
            "  [44. 46. 48.]]]\n"
          ],
          "name": "stdout"
        }
      ]
    },
    {
      "cell_type": "markdown",
      "metadata": {
        "id": "Cc9gNLwNfuNC",
        "colab_type": "text"
      },
      "source": [
        "<a id=\"ref8\"></a>\n",
        "<hr>Operations</h2>\n",
        "\n",
        "Operations are nodes that represent the mathematical operations over the tensors on a graph. These operations can be any kind of functions, like add and subtract tensor or maybe an activation function.\n",
        "\n",
        "<b>tf.constant</b>, <b>tf.matmul</b>, <b>tf.add</b>, <b>tf.nn.sigmoid</b> are some of the operations in TensorFlow. These are like functions in python but operate directly over tensors and each one does a specific thing. \n"
      ]
    },
    {
      "cell_type": "code",
      "metadata": {
        "id": "ZREGyQ0rfv9w",
        "colab_type": "code",
        "colab": {
          "base_uri": "https://localhost:8080/",
          "height": 54
        },
        "outputId": "c28f4a03-244c-4654-86a1-eb1f50d4b560"
      },
      "source": [
        "graph5 = tf.Graph()\n",
        "with graph5.as_default():\n",
        "  a = tf.constant([5])\n",
        "  b = tf.constant([2])\n",
        "  c = tf.add(a,b)\n",
        "  d = tf.subtract(a,b)\n",
        "  \n",
        "with tf.Session(graph = graph5) as sess:\n",
        "  result = sess.run(c)\n",
        "  print ('c =: %s' % result)\n",
        "  result = sess.run(d)\n",
        "  print ('d =: %s' % result)"
      ],
      "execution_count": 37,
      "outputs": [
        {
          "output_type": "stream",
          "text": [
            "c =: [7]\n",
            "d =: [3]\n"
          ],
          "name": "stdout"
        }
      ]
    }
  ]
}